{
 "cells": [
  {
   "cell_type": "markdown",
   "metadata": {},
   "source": [
    "__new__ — метод класса, который создает экземпляр объекта класса cls. Первый параметр метода __new__ должен быть cls, \n",
    "т.к. он представляет собой создаваемый класс. Цель этого метода - создать экземпляр, \n",
    "который затем поступит в __init__ в помощью параметра self, который должен быть первым параметром в методе __init__. \n",
    "В __new__ же использовать self не имеет смысла, т.к. объект еще не создан."
   ]
  },
  {
   "cell_type": "code",
   "execution_count": 24,
   "metadata": {},
   "outputs": [
    {
     "name": "stdout",
     "output_type": "stream",
     "text": [
      "создание объекта\n",
      "инициализация объекта\n"
     ]
    },
    {
     "data": {
      "text/plain": [
       "<__main__.A at 0x8c3c76feb8>"
      ]
     },
     "execution_count": 24,
     "metadata": {},
     "output_type": "execute_result"
    }
   ],
   "source": [
    "class A(object):\n",
    "    def __new__(cls):\n",
    "        a = super(A, cls).__new__(cls)\n",
    "        print('создание объекта')\n",
    "        return a\n",
    "    def __init__(self):    \n",
    "        print ('инициализация объекта')\n",
    "    \n",
    "A()\n"
   ]
  },
  {
   "cell_type": "markdown",
   "metadata": {},
   "source": [
    "Метод __init__ инициализирует атрибуты класса, создаваемые в __new__. Поэтому __new__ всегда должен возвращать \n",
    "созданные им объекты, а __init__ не должен ничего возвращать.\n",
    "Также, мы можем вообще не вызывать метод __new__, т.к. по дефолту при вызове __init__ метод __new__ вызывается сам \n",
    "и по дефолту создает новый объект."
   ]
  },
  {
   "cell_type": "code",
   "execution_count": 27,
   "metadata": {},
   "outputs": [
    {
     "data": {
      "text/plain": [
       "<__main__.B at 0x8c3c6d3780>"
      ]
     },
     "execution_count": 27,
     "metadata": {},
     "output_type": "execute_result"
    }
   ],
   "source": [
    "class B(object):\n",
    "    def __init__(self, b):\n",
    "        self.b = b \n",
    "        \n",
    "B('b')\n"
   ]
  }
 ],
 "metadata": {
  "kernelspec": {
   "display_name": "Python 3",
   "language": "python",
   "name": "python3"
  },
  "language_info": {
   "codemirror_mode": {
    "name": "ipython",
    "version": 3
   },
   "file_extension": ".py",
   "mimetype": "text/x-python",
   "name": "python",
   "nbconvert_exporter": "python",
   "pygments_lexer": "ipython3",
   "version": "3.6.1"
  }
 },
 "nbformat": 4,
 "nbformat_minor": 2
}
